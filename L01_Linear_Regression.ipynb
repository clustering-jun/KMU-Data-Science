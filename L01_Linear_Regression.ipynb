{
  "nbformat": 4,
  "nbformat_minor": 0,
  "metadata": {
    "colab": {
      "provenance": [],
      "gpuType": "T4",
      "authorship_tag": "ABX9TyMntCv/gEK20ZNHcfqYsKvc"
    },
    "kernelspec": {
      "name": "python3",
      "display_name": "Python 3"
    },
    "language_info": {
      "name": "python"
    },
    "accelerator": "GPU"
  },
  "cells": [
    {
      "cell_type": "markdown",
      "source": [
        "# Linear Regression Practice\n"
      ],
      "metadata": {
        "id": "xXLCvW1WzmSa"
      }
    },
    {
      "cell_type": "markdown",
      "source": [
        "## Pytorch Basic"
      ],
      "metadata": {
        "id": "YGTHtkppzxRq"
      }
    },
    {
      "cell_type": "code",
      "execution_count": null,
      "metadata": {
        "id": "R4BG2nhXzREo"
      },
      "outputs": [],
      "source": [
        "import torch"
      ]
    },
    {
      "cell_type": "markdown",
      "source": [
        "### Tensor\n",
        "파이토치에서 사용하는 가장 기본적인 자료구조\n",
        "- 다양한 수식 계산 지원\n",
        "- 수학의 스칼라, 벡터, 행렬 등을 일반화한 개념"
      ],
      "metadata": {
        "id": "8o-bZ7Sz0j-h"
      }
    },
    {
      "cell_type": "code",
      "source": [
        "x = torch.FloatTensor([[1,2,3],[4,5,6],[7,8,9]])\n",
        "y = torch.FloatTensor([[[1,2], [3,4]],[[1,2], [3,4]],[[1,2], [3,4]]])\n",
        "\n",
        "print(x)\n",
        "print(x.type())\n",
        "print(x.size())\n",
        "\n",
        "# 자주 사용함.\n",
        "print(x.shape)\n",
        "\n",
        "print(x.ndimension())\n",
        "print(y.ndimension())"
      ],
      "metadata": {
        "colab": {
          "base_uri": "https://localhost:8080/"
        },
        "id": "cExJHbnu02Xi",
        "outputId": "b8515f6e-3143-4643-e5f3-d6b77fdc0bf2"
      },
      "execution_count": null,
      "outputs": [
        {
          "output_type": "stream",
          "name": "stdout",
          "text": [
            "tensor([[1., 2., 3.],\n",
            "        [4., 5., 6.],\n",
            "        [7., 8., 9.]])\n",
            "torch.FloatTensor\n",
            "torch.Size([3, 3])\n",
            "torch.Size([3, 3])\n",
            "2\n",
            "3\n"
          ]
        }
      ]
    },
    {
      "cell_type": "markdown",
      "source": [
        "### 텐서 모양 바꾸기\n",
        "* unsqueeze(x,i): tensor x에 i번째 차원 추가\n",
        "* squeeze(x): tensor x에서 크기가 1인 차원 제거\n",
        "* x.view([shape]): x를 [shape]의 모양으로 변환"
      ],
      "metadata": {
        "id": "docImfab2i2v"
      }
    },
    {
      "cell_type": "code",
      "source": [
        "x = torch.FloatTensor([[[1,2], [3,4]],[[1,2], [3,4]],[[1,2], [3,4]]])\n",
        "\n",
        "print(x.shape)\n",
        "print(x)\n",
        "\n",
        "x0 = x.unsqueeze(0)\n",
        "print(x0)\n",
        "print(x0.shape)\n",
        "\n",
        "x1 = x0.squeeze()\n",
        "print(x1.shape)\n",
        "\n",
        "x1.view([2, 3, 2])\n",
        "x1.view([3, -1])"
      ],
      "metadata": {
        "colab": {
          "base_uri": "https://localhost:8080/"
        },
        "id": "aZnBjxs23ITu",
        "outputId": "d302df65-c2aa-414e-c93c-e6d8f97d5d5e"
      },
      "execution_count": null,
      "outputs": [
        {
          "output_type": "stream",
          "name": "stdout",
          "text": [
            "torch.Size([3, 2, 2])\n",
            "tensor([[[1., 2.],\n",
            "         [3., 4.]],\n",
            "\n",
            "        [[1., 2.],\n",
            "         [3., 4.]],\n",
            "\n",
            "        [[1., 2.],\n",
            "         [3., 4.]]])\n",
            "tensor([[[[1., 2.],\n",
            "          [3., 4.]],\n",
            "\n",
            "         [[1., 2.],\n",
            "          [3., 4.]],\n",
            "\n",
            "         [[1., 2.],\n",
            "          [3., 4.]]]])\n",
            "torch.Size([1, 3, 2, 2])\n",
            "torch.Size([3, 2, 2])\n"
          ]
        },
        {
          "output_type": "execute_result",
          "data": {
            "text/plain": [
              "tensor([[1., 2., 3., 4.],\n",
              "        [1., 2., 3., 4.],\n",
              "        [1., 2., 3., 4.]])"
            ]
          },
          "metadata": {},
          "execution_count": 31
        }
      ]
    },
    {
      "cell_type": "markdown",
      "source": [
        "### 행렬 연산\n",
        "* randn"
      ],
      "metadata": {
        "id": "hCET7nnn5l4x"
      }
    },
    {
      "cell_type": "code",
      "source": [
        "x = torch.FloatTensor([[1,2],[3,4],[5,6]])  # 3 x 2\n",
        "w = torch.randn(1,2, dtype=torch.float) # 1 x 2  ==> 2 x 1\n",
        "b = torch.randn(3,1, dtype=torch.float)\n",
        "\n",
        "print(x @ w.T + b)\n",
        "# torch.mm(x, w.T)\n",
        "# torch.t(w) == w.T\n",
        "# x @ w.T"
      ],
      "metadata": {
        "colab": {
          "base_uri": "https://localhost:8080/"
        },
        "id": "f4mNV2os5pVk",
        "outputId": "84369dc5-a60b-4bec-9f03-d91d6fc93dd7"
      },
      "execution_count": null,
      "outputs": [
        {
          "output_type": "stream",
          "name": "stdout",
          "text": [
            "tensor([[ -6.1258],\n",
            "        [-12.7275],\n",
            "        [-17.1558]])\n"
          ]
        }
      ]
    },
    {
      "cell_type": "markdown",
      "source": [
        "* Autograd: requires_grad 값이 설정된 tensor에 대해서, pytorch는 자동으로 기울기를 계산해줌."
      ],
      "metadata": {
        "id": "D1EoT6KW6mms"
      }
    },
    {
      "cell_type": "code",
      "source": [
        "w = torch.tensor(2.0, requires_grad=True)\n",
        "a = w*3\n",
        "l = a**2\n",
        "l.backward()\n",
        "print(w.grad)"
      ],
      "metadata": {
        "colab": {
          "base_uri": "https://localhost:8080/"
        },
        "id": "O1aYTrDm6nSC",
        "outputId": "3097bacf-3b06-47be-b71b-d44a01f78e81"
      },
      "execution_count": null,
      "outputs": [
        {
          "output_type": "stream",
          "name": "stdout",
          "text": [
            "tensor(36.)\n"
          ]
        }
      ]
    },
    {
      "cell_type": "markdown",
      "source": [
        "## Linear Regression with Pytorch"
      ],
      "metadata": {
        "id": "6Txv9j9G7tkj"
      }
    }
  ]
}