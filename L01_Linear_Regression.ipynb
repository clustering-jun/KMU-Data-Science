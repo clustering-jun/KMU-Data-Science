{
  "nbformat": 4,
  "nbformat_minor": 0,
  "metadata": {
    "colab": {
      "provenance": [],
      "gpuType": "T4",
      "collapsed_sections": [
        "YGTHtkppzxRq",
        "6Txv9j9G7tkj",
        "xS6kDmC1OJ-U"
      ],
      "authorship_tag": "ABX9TyNRy2xm+zOSdVRftUwDZKfI"
    },
    "kernelspec": {
      "name": "python3",
      "display_name": "Python 3"
    },
    "language_info": {
      "name": "python"
    },
    "accelerator": "GPU"
  },
  "cells": [
    {
      "cell_type": "markdown",
      "source": [
        "# Linear Regression Practice\n"
      ],
      "metadata": {
        "id": "xXLCvW1WzmSa"
      }
    },
    {
      "cell_type": "markdown",
      "source": [
        "## Pytorch Basic"
      ],
      "metadata": {
        "id": "YGTHtkppzxRq"
      }
    },
    {
      "cell_type": "code",
      "execution_count": null,
      "metadata": {
        "id": "R4BG2nhXzREo"
      },
      "outputs": [],
      "source": [
        "import torch"
      ]
    },
    {
      "cell_type": "markdown",
      "source": [
        "### Tensor\n",
        "파이토치에서 사용하는 가장 기본적인 자료구조\n",
        "- 다양한 수식 계산 지원\n",
        "- 수학의 스칼라, 벡터, 행렬 등을 일반화한 개념"
      ],
      "metadata": {
        "id": "8o-bZ7Sz0j-h"
      }
    },
    {
      "cell_type": "code",
      "source": [
        "x = torch.FloatTensor([[1,2,3],[4,5,6],[7,8,9]])\n",
        "y = torch.FloatTensor([[[1,2], [3,4]],[[1,2], [3,4]],[[1,2], [3,4]]])\n",
        "\n",
        "print(x)\n",
        "print(x.type())\n",
        "print(x.size())\n",
        "\n",
        "# 자주 사용함.\n",
        "print(x.shape)\n",
        "\n",
        "print(x.ndimension())\n",
        "print(y.ndimension())"
      ],
      "metadata": {
        "colab": {
          "base_uri": "https://localhost:8080/"
        },
        "id": "cExJHbnu02Xi",
        "outputId": "b8515f6e-3143-4643-e5f3-d6b77fdc0bf2"
      },
      "execution_count": null,
      "outputs": [
        {
          "output_type": "stream",
          "name": "stdout",
          "text": [
            "tensor([[1., 2., 3.],\n",
            "        [4., 5., 6.],\n",
            "        [7., 8., 9.]])\n",
            "torch.FloatTensor\n",
            "torch.Size([3, 3])\n",
            "torch.Size([3, 3])\n",
            "2\n",
            "3\n"
          ]
        }
      ]
    },
    {
      "cell_type": "markdown",
      "source": [
        "### 텐서 모양 바꾸기\n",
        "* unsqueeze(x,i): tensor x에 i번째 차원 추가\n",
        "* squeeze(x): tensor x에서 크기가 1인 차원 제거\n",
        "* x.view([shape]): x를 [shape]의 모양으로 변환"
      ],
      "metadata": {
        "id": "docImfab2i2v"
      }
    },
    {
      "cell_type": "code",
      "source": [
        "x = torch.FloatTensor([[[1,2], [3,4]],[[1,2], [3,4]],[[1,2], [3,4]]])\n",
        "\n",
        "print(x.shape)\n",
        "print(x)\n",
        "\n",
        "x0 = x.unsqueeze(0)\n",
        "print(x0)\n",
        "print(x0.shape)\n",
        "\n",
        "x1 = x0.squeeze()\n",
        "print(x1.shape)\n",
        "\n",
        "x1.view([2, 3, 2])\n",
        "x1.view([3, -1])"
      ],
      "metadata": {
        "colab": {
          "base_uri": "https://localhost:8080/"
        },
        "id": "aZnBjxs23ITu",
        "outputId": "d302df65-c2aa-414e-c93c-e6d8f97d5d5e"
      },
      "execution_count": null,
      "outputs": [
        {
          "output_type": "stream",
          "name": "stdout",
          "text": [
            "torch.Size([3, 2, 2])\n",
            "tensor([[[1., 2.],\n",
            "         [3., 4.]],\n",
            "\n",
            "        [[1., 2.],\n",
            "         [3., 4.]],\n",
            "\n",
            "        [[1., 2.],\n",
            "         [3., 4.]]])\n",
            "tensor([[[[1., 2.],\n",
            "          [3., 4.]],\n",
            "\n",
            "         [[1., 2.],\n",
            "          [3., 4.]],\n",
            "\n",
            "         [[1., 2.],\n",
            "          [3., 4.]]]])\n",
            "torch.Size([1, 3, 2, 2])\n",
            "torch.Size([3, 2, 2])\n"
          ]
        },
        {
          "output_type": "execute_result",
          "data": {
            "text/plain": [
              "tensor([[1., 2., 3., 4.],\n",
              "        [1., 2., 3., 4.],\n",
              "        [1., 2., 3., 4.]])"
            ]
          },
          "metadata": {},
          "execution_count": 31
        }
      ]
    },
    {
      "cell_type": "markdown",
      "source": [
        "### 행렬 연산\n",
        "* randn"
      ],
      "metadata": {
        "id": "hCET7nnn5l4x"
      }
    },
    {
      "cell_type": "code",
      "source": [
        "x = torch.FloatTensor([[1,2],[3,4],[5,6]])  # 3 x 2\n",
        "w = torch.randn(1,2, dtype=torch.float) # 1 x 2  ==> 2 x 1\n",
        "b = torch.randn(3,1, dtype=torch.float)\n",
        "\n",
        "print(x @ w.T + b)\n",
        "# torch.mm(x, w.T)\n",
        "# torch.t(w) == w.T\n",
        "# x @ w.T"
      ],
      "metadata": {
        "colab": {
          "base_uri": "https://localhost:8080/"
        },
        "id": "f4mNV2os5pVk",
        "outputId": "84369dc5-a60b-4bec-9f03-d91d6fc93dd7"
      },
      "execution_count": null,
      "outputs": [
        {
          "output_type": "stream",
          "name": "stdout",
          "text": [
            "tensor([[ -6.1258],\n",
            "        [-12.7275],\n",
            "        [-17.1558]])\n"
          ]
        }
      ]
    },
    {
      "cell_type": "markdown",
      "source": [
        "* Autograd: requires_grad 값이 설정된 tensor에 대해서, pytorch는 자동으로 기울기를 계산해줌."
      ],
      "metadata": {
        "id": "D1EoT6KW6mms"
      }
    },
    {
      "cell_type": "code",
      "source": [
        "w = torch.tensor(2.0, requires_grad=True)\n",
        "a = w*3\n",
        "l = a**2\n",
        "l.backward()\n",
        "print(w.grad)"
      ],
      "metadata": {
        "colab": {
          "base_uri": "https://localhost:8080/"
        },
        "id": "O1aYTrDm6nSC",
        "outputId": "3097bacf-3b06-47be-b71b-d44a01f78e81"
      },
      "execution_count": null,
      "outputs": [
        {
          "output_type": "stream",
          "name": "stdout",
          "text": [
            "tensor(36.)\n"
          ]
        }
      ]
    },
    {
      "cell_type": "markdown",
      "source": [
        "## Linear Regression with Pytorch"
      ],
      "metadata": {
        "id": "6Txv9j9G7tkj"
      }
    },
    {
      "cell_type": "code",
      "source": [
        "import torch\n",
        "\n",
        "x_train = torch.FloatTensor([[1,2], [3,2], [3,7], [1,1], [1,0]])\n",
        "y_train = torch.FloatTensor([[4], [8], [23], [1], [-2]])\n",
        " # 원래 함수: y = 2x1 + 3x2 - 4\n",
        "\n",
        "w = torch.randn(2,1)\n",
        "b = torch.randn(1)\n",
        "lr = 0.01\n",
        "\n",
        " # w, b값 찾기\n",
        "for epoch in range(3000):\n",
        "  w.requires_grad_(True)\n",
        "  b.requires_grad_(True)\n",
        "\n",
        "  h = x_train @ w + b\n",
        "  cost = ((h-y_train)**2).mean()\n",
        "\n",
        "  cost.backward()\n",
        "\n",
        " # 경사하강법(미분X)\n",
        "  with torch.no_grad():\n",
        "    w = w - lr * w.grad\n",
        "    b = b - lr * b.grad\n",
        "\n",
        "    if epoch % 100 == 0:\n",
        "      print(epoch, cost.item(), w.squeeze(), b)\n",
        "\n",
        "\n",
        " # 예측하기\n",
        "x_test = torch.FloatTensor([[5,10]])\n",
        "y_test = x_test @ w + b\n",
        "print(y_test)"
      ],
      "metadata": {
        "colab": {
          "base_uri": "https://localhost:8080/"
        },
        "id": "dvfcNf-tL3z_",
        "outputId": "340e8983-ebfd-4aab-dd39-1a7d9c7385dd"
      },
      "execution_count": 45,
      "outputs": [
        {
          "output_type": "stream",
          "name": "stdout",
          "text": [
            "0 121.1106185913086 tensor([-0.1512,  0.6793]) tensor([2.0272])\n",
            "100 3.213176727294922 tensor([-0.0299,  3.2531]) tensor([-0.1889])\n",
            "200 1.601880431175232 tensor([0.4186, 3.2733]) tensor([-1.3551])\n",
            "300 0.8226024508476257 tensor([0.8521, 3.2063]) tensor([-2.1138])\n",
            "400 0.4227420687675476 tensor([1.1754, 3.1491]) tensor([-2.6489])\n",
            "500 0.2172553539276123 tensor([1.4087, 3.1070]) tensor([-3.0316])\n",
            "600 0.11165167391300201 tensor([1.5761, 3.0767]) tensor([-3.3058])\n",
            "700 0.05737997964024544 tensor([1.6961, 3.0550]) tensor([-3.5023])\n",
            "800 0.02948862873017788 tensor([1.7821, 3.0394]) tensor([-3.6432])\n",
            "900 0.015154831111431122 tensor([1.8438, 3.0283]) tensor([-3.7442])\n",
            "1000 0.007788443472236395 tensor([1.8880, 3.0203]) tensor([-3.8166])\n",
            "1100 0.004002577159553766 tensor([1.9197, 3.0145]) tensor([-3.8686])\n",
            "1200 0.002057002391666174 tensor([1.9425, 3.0104]) tensor([-3.9058])\n",
            "1300 0.001057128538377583 tensor([1.9588, 3.0075]) tensor([-3.9324])\n",
            "1400 0.0005432724137790501 tensor([1.9704, 3.0054]) tensor([-3.9516])\n",
            "1500 0.0002791915903799236 tensor([1.9788, 3.0038]) tensor([-3.9653])\n",
            "1600 0.00014347638352774084 tensor([1.9848, 3.0028]) tensor([-3.9751])\n",
            "1700 7.372551044682041e-05 tensor([1.9891, 3.0020]) tensor([-3.9822])\n",
            "1800 3.788720641750842e-05 tensor([1.9922, 3.0014]) tensor([-3.9872])\n",
            "1900 1.9468905520625412e-05 tensor([1.9944, 3.0010]) tensor([-3.9908])\n",
            "2000 1.0002787348639686e-05 tensor([1.9960, 3.0007]) tensor([-3.9934])\n",
            "2100 5.140606390341418e-06 tensor([1.9971, 3.0005]) tensor([-3.9953])\n",
            "2200 2.6432276172272395e-06 tensor([1.9979, 3.0004]) tensor([-3.9966])\n",
            "2300 1.3583878626377555e-06 tensor([1.9985, 3.0003]) tensor([-3.9976])\n",
            "2400 6.982995728321839e-07 tensor([1.9989, 3.0002]) tensor([-3.9983])\n",
            "2500 3.5947437027061824e-07 tensor([1.9992, 3.0001]) tensor([-3.9988])\n",
            "2600 1.8429584258683462e-07 tensor([1.9995, 3.0001]) tensor([-3.9991])\n",
            "2700 9.526703337314757e-08 tensor([1.9996, 3.0001]) tensor([-3.9994])\n",
            "2800 4.880614667968075e-08 tensor([1.9997, 3.0001]) tensor([-3.9995])\n",
            "2900 2.5071880571658767e-08 tensor([1.9998, 3.0000]) tensor([-3.9997])\n",
            "tensor([[35.9998]])\n"
          ]
        }
      ]
    },
    {
      "cell_type": "markdown",
      "source": [
        "## Linear Regression with Scikit-learn\n",
        "\n",
        "### Python의 대표 머신러닝 라이브러리"
      ],
      "metadata": {
        "id": "xS6kDmC1OJ-U"
      }
    },
    {
      "cell_type": "code",
      "source": [
        "from sklearn.linear_model import LinearRegression\n",
        "\n",
        "x = [[1,2], [3,2], [3,7], [1,1], [1,0]]\n",
        "y = [[4], [8], [23], [1], [-2]]\n",
        "\n",
        "lr = LinearRegression()\n",
        "lr.fit(x, y)\n",
        "\n",
        "print(lr.coef_, lr.intercept_)\n",
        "\n",
        "x_test = [[5,10]]\n",
        "\n",
        "y_test = lr.predict(x_test)\n",
        "print(\"===== 결과 =====\")\n",
        "print(y_test)"
      ],
      "metadata": {
        "colab": {
          "base_uri": "https://localhost:8080/"
        },
        "id": "5JbJRl2fOfzY",
        "outputId": "5aa197c8-ae82-45ba-ef89-858f5ffceb29"
      },
      "execution_count": 52,
      "outputs": [
        {
          "output_type": "stream",
          "name": "stdout",
          "text": [
            "[[2. 3.]] [-4.]\n",
            "===== 결과 =====\n",
            "[[36.]]\n"
          ]
        }
      ]
    }
  ]
}